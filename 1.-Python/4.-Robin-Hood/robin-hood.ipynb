{
 "cells": [
  {
   "cell_type": "markdown",
   "metadata": {},
   "source": [
    "<img src=\"https://bit.ly/2VnXWr2\" width=\"100\" align=\"left\"/>"
   ]
  },
  {
   "cell_type": "markdown",
   "metadata": {},
   "source": [
    "# Robin Hood\n",
    "Robin Hood has entered a competition to win the archery contest in Sherwood. With his bow and arrows, he needs to shoot on a target and try to hit as close as possible to the center.\n",
    "\n",
    "![](images/arrows.jpg)\n",
    "\n",
    "## Context\n",
    "In this challenge, the landing position of arrows shot by archers in the competition will be represented using 2-dimensional coordinates. \n",
    "\n",
    "In the 2-dimensional space, a point can be defined by a pair of values that correspond to the horizontal coordinate (x) and the vertical coordinate (y). For example, in our case, an arrow that hits the center of the archery target will land in position (0, 0) on the coordinate axes. \n",
    "\n",
    "The space can be divided into 4 zones (quadrants): Q1, Q2, Q3, Q4. If a point is in Q1, both its x coordinate and y coordinate are positive. Any point with a null x or y coordinate is considered to not belong to any quadrant. \n",
    "\n",
    "If you want to know more about the cartesian coordinate system, you can check this [link](https://en.wikipedia.org/wiki/Cartesian_coordinate_system). \n",
    "\n",
    "## Tools\n",
    "You don't necessarily need to use all the tools. Maybe you opt to use some of them or completely different ones, they are given to help you shape the exercise. Programming exercises can be solved in many different ways.\n",
    "* Data structures: **lists, sets, tuples**\n",
    "* Conditional statements: **if-elif-else**\n",
    "* Loop: **while/for**\n",
    "* Minimum (optional sorting)\n",
    "\n",
    "## Tasks\n",
    "Robin Hood has hit the following points:"
   ]
  },
  {
   "cell_type": "code",
   "execution_count": 1,
   "metadata": {},
   "outputs": [],
   "source": [
    "points = [(4, 5), (-0, 2), (4, 7), (1, -3), (3, -2), (4, 5), (3, 2), (5, 7), (-5, 7), (2, 2), (-4, 5), (0, -2),\n",
    "          (-4, 7), (-1, 3),(-3, 2), (-4, -5), (-3, 2), (5, 7), (5, 7), (2, 2), (9, 9), (-8, -9)]"
   ]
  },
  {
   "cell_type": "markdown",
   "metadata": {},
   "source": [
    "#### 1. Robin Hood is famous for hitting an arrow with another arrow. Find the coordinates of the points where an arrow hits another arrow."
   ]
  },
  {
   "cell_type": "code",
   "execution_count": 2,
   "metadata": {},
   "outputs": [
    {
     "name": "stdout",
     "output_type": "stream",
     "text": [
      "[[4, 5], [0, 2], [4, 7], [1, -3], [3, -2], [4, 5], [3, 2], [5, 7], [-5, 7], [2, 2], [-4, 5], [0, -2], [-4, 7], [-1, 3], [-3, 2], [-4, -5], [-3, 2], [5, 7], [5, 7], [2, 2], [9, 9], [-8, -9]]\n",
      "[4, 0, 4, 1, 3, 4, 3, 5, -5, 2, -4, 0, -4, -1, -3, -4, -3, 5, 5, 2, 9, -8]\n",
      "[5, 2, 7, -3, -2, 5, 2, 7, 7, 2, 5, -2, 7, 3, 2, -5, 2, 7, 7, 2, 9, -9]\n",
      "( 4 , 5 )\n",
      "( 5 , 7 )\n",
      "( 5 , 7 )\n",
      "( 2 , 2 )\n",
      "( -3 , 2 )\n",
      "( 5 , 7 )\n"
     ]
    }
   ],
   "source": [
    "lists_p=[]\n",
    "b=0\n",
    "\n",
    "for b in range(len(points)):\n",
    "    lists=list(points[b])\n",
    "    lists_p.append(lists)\n",
    "    b+=1\n",
    "print(lists_p)\n",
    "\n",
    "x = 0\n",
    "list_x = []\n",
    "for x in range (len(points)):\n",
    "    matrix_x = points[x][0]\n",
    "    list_x.append(matrix_x)\n",
    "    x+= 1\n",
    "print(list_x)\n",
    "\n",
    "list_y = []\n",
    "y = 0\n",
    "for y in range (len(points)):\n",
    "    matrix_y = points[y][1]\n",
    "    list_y.append(matrix_y)\n",
    "    y+= 1\n",
    "print(list_y)\n",
    "\n",
    "\n",
    "\n",
    "lists_arrows = []\n",
    "listx=[]\n",
    "listy=[]\n",
    "\n",
    "z=0\n",
    "while z < len(list_x):\n",
    "    w=z+1\n",
    "    while w < len(list_x):\n",
    "        if list_x[z] ==list_x[w] and list_y[z]==list_y[w]:\n",
    "            lists_arrows.append(list_x[w])\n",
    "            lists_arrows.append(list_y[w])\n",
    "            \n",
    "            print(\"(\",list_x[w],\",\",list_y[w],\")\")\n",
    "            \n",
    "        w+=1\n",
    "    z+=1\n",
    "#print(lists_arrows)  "
   ]
  },
  {
   "cell_type": "markdown",
   "metadata": {},
   "source": [
    "#### 2. Calculate how many arrows have fallen in each quadrant. \n",
    "**Note**: the arrows that fall in the axis (x=0 or y=0) don't belong to any quadrant."
   ]
  },
  {
   "cell_type": "code",
   "execution_count": 3,
   "metadata": {},
   "outputs": [
    {
     "name": "stdout",
     "output_type": "stream",
     "text": [
      "Arrows Fallen in Quadrant 1: 10\n",
      "Arrows Fallen in Quadrant 2: 6\n",
      "Arrows Fallen in Quadrant 3: 2\n",
      "Arrows Fallen in Quadrant 4: 2\n"
     ]
    }
   ],
   "source": [
    "quad1 = 0\n",
    "quad2 = 0\n",
    "quad3 = 0\n",
    "quad4 = 0\n",
    "\n",
    "i = 0\n",
    "\n",
    "for i in range(len(points)):\n",
    "    if lists_p[i][0]>0 and lists_p[i][1]>0:\n",
    "        quad1+=1\n",
    "    elif lists_p[i][0]<0 and lists_p[i][1]>0:\n",
    "        quad2+=1\n",
    "    elif lists_p[i][0]<0 and lists_p[i][1]<0:\n",
    "        quad3+=1\n",
    "    elif lists_p[i][0]>0 and lists_p[i][1]<0:\n",
    "        quad4+=1\n",
    "\n",
    "print(\"Arrows Fallen in Quadrant 1:\",quad1)\n",
    "print(\"Arrows Fallen in Quadrant 2:\",quad2)\n",
    "print(\"Arrows Fallen in Quadrant 3:\",quad3)\n",
    "print(\"Arrows Fallen in Quadrant 4:\",quad4)"
   ]
  },
  {
   "cell_type": "markdown",
   "metadata": {},
   "source": [
    "# 3. Find the point closest to the center. Calculate its distance to the center. \n",
    "Take into account that there might be more than one point at the minimum distance to the center.\n",
    "\n",
    "**Hint**: Use the Euclidean distance. You can find more information about it [here](https://en.wikipedia.org/wiki/Euclidean_distance).  \n",
    "**Hint**: Defining a function that calculates the distance to the center can help."
   ]
  },
  {
   "cell_type": "code",
   "execution_count": 4,
   "metadata": {},
   "outputs": [
    {
     "name": "stdout",
     "output_type": "stream",
     "text": [
      "Min distance:  2.0\n",
      "Points with min distance:  [(0, 2), (0, -2)]\n"
     ]
    }
   ],
   "source": [
    "import math \n",
    "\n",
    "euclidean_dist = []\n",
    "res_points = []\n",
    "centro_x = 0\n",
    "centro_y = 0\n",
    "\n",
    "for i in range(len(points)):\n",
    "    euclidean_distance = math.sqrt( math.pow(points[i][0]-centro_x,2) + math.pow(points[i][1]-centro_y,2) )\n",
    "    euclidean_dist.append(euclidean_distance)\n",
    "\n",
    "min_val = min(euclidean_dist)\n",
    "\n",
    "for j in range(len(euclidean_dist)):\n",
    "    if euclidean_dist[j] == min_val:\n",
    "        res_points.append(points[j])\n",
    "\n",
    "print(\"Min distance: \", min_val)\n",
    "print(\"Points with min distance: \", res_points)"
   ]
  },
  {
   "cell_type": "markdown",
   "metadata": {},
   "source": [
    "#### 4. If the archery target has a radius of 9, calculate the number of arrows that won't hit the target. \n",
    "**Hint**: Use the function created in step 3. "
   ]
  },
  {
   "cell_type": "code",
   "execution_count": 5,
   "metadata": {},
   "outputs": [
    {
     "name": "stdout",
     "output_type": "stream",
     "text": [
      "Number of arrows out: 2\n"
     ]
    }
   ],
   "source": [
    "import math \n",
    "\n",
    "euclidean_dist = []\n",
    "res_points = []\n",
    "\n",
    "for i in range(len(points)):\n",
    "    euclidean_distance = math.sqrt( math.pow(points[i][0],2) + math.pow(points[i][1],2) )\n",
    "    euclidean_dist.append(euclidean_distance)\n",
    "\n",
    "radius = 9\n",
    "\n",
    "for j in range(len(euclidean_dist)):\n",
    "    if euclidean_dist[j] > radius:\n",
    "        res_points.append(points[j])\n",
    "        \n",
    "arrows_out=len(res_points)\n",
    "\n",
    "print(\"Number of arrows out:\", arrows_out)"
   ]
  },
  {
   "cell_type": "code",
   "execution_count": 6,
   "metadata": {},
   "outputs": [],
   "source": [
    "# teste com funcao\n",
    "def distancia(x,y):\n",
    "    euclidean_distance = math.sqrt( math.pow(x,2) + math.pow(y,2) )\n",
    "    return euclidean_distance\n",
    "for i in range(len(points)):\n",
    "    euclidean_dist.append(distancia(points[i][0],points[i][1]))"
   ]
  }
 ],
 "metadata": {
  "kernelspec": {
   "display_name": "Python 3",
   "language": "python",
   "name": "python3"
  },
  "language_info": {
   "codemirror_mode": {
    "name": "ipython",
    "version": 3
   },
   "file_extension": ".py",
   "mimetype": "text/x-python",
   "name": "python",
   "nbconvert_exporter": "python",
   "pygments_lexer": "ipython3",
   "version": "3.8.8"
  }
 },
 "nbformat": 4,
 "nbformat_minor": 2
}
